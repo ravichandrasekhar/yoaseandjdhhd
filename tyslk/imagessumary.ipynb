{
 "cells": [
  {
   "cell_type": "code",
   "execution_count": 1,
   "metadata": {},
   "outputs": [],
   "source": [
    "import os\n",
    "from unstructured.partition.pdf import partition_pdf"
   ]
  },
  {
   "cell_type": "code",
   "execution_count": 3,
   "metadata": {},
   "outputs": [],
   "source": [
    "poppler_path = r'D:\\\\configurations\\\\poppler-0.68.0 (1)\\\\poppler-0.68.0\\\\bin'\n",
    "tesseract_path = r'D:\\\\configurations\\\\test\\\\tesseract.exe'\n",
    "os.environ['PATH'] = poppler_path + os.pathsep + os.environ['PATH']\n",
    "os.environ['PATH'] = f'{os.path.dirname(tesseract_path)};{os.environ[\"PATH\"]}'"
   ]
  },
  {
   "cell_type": "code",
   "execution_count": 23,
   "metadata": {},
   "outputs": [],
   "source": [
    "import os\n",
    "\n",
    "output_dir = \"C:\\\\Users\\\\ravichandrav\\\\Desktop\\\\data\\\\extracted_data\"\n",
    "if not os.path.exists(output_dir):\n",
    "    os.makedirs(output_dir)\n",
    "\n",
    "raw_pdf_elements = partition_pdf(\n",
    "    filename=\"C:\\\\Users\\\\ravichandrav\\\\Desktop\\\\data\\\\DW251 etc._385930-03.pdf\",\n",
    "    strategy=\"hi_res\",\n",
    "    extract_images_in_pdf=True,\n",
    "    \n",
    "    extract_image_block_types=[\"Image\", \"Table\"],\n",
    "    extract_image_block_to_payload=True,\n",
    "    extract_image_block_output_dir=output_dir\n",
    ")\n"
   ]
  },
  {
   "cell_type": "code",
   "execution_count": 22,
   "metadata": {},
   "outputs": [
    {
     "data": {
      "text/plain": [
       "['662WD562WD362WD262WD/062WD/752WD/552WDTW252WD/252WD/152WD W272WD272WD/962WD/022-862WDG862WD/862WD/762WD/022-662WD / / / / / /',\n",
       " 'FIG. 4 FIG. 5 . . N C . R . EASE 10 OFF . . . 0 .. VERSA CLUTCH™ FIG. 6 NUTSETTER']"
      ]
     },
     "execution_count": 22,
     "metadata": {},
     "output_type": "execute_result"
    }
   ],
   "source": [
    "Img"
   ]
  },
  {
   "cell_type": "code",
   "execution_count": 46,
   "metadata": {},
   "outputs": [],
   "source": [
    "Header=[]\n",
    "Footer= []\n",
    "Title= []\n",
    "NarrativeText=[]\n",
    "Text= []\n",
    "ListItem= []\n",
    "Img=[]\n",
    "for element in raw_pdf_elements:\n",
    "    if \"unstructured.documents.elements.Header\" in str(type(element)):\n",
    "        Header.append(str(element))\n",
    "    elif \"unstructured.documents.elements.Footer\" in str(type(element)):\n",
    "        Footer.append(str(element))\n",
    "    elif \"unstructured.documents.elements.Title\" in str(type(element)):\n",
    "        Title.append(str(element))\n",
    "    elif \"unstructured.documents.elements.NarrativeText\" in str(type(element)):\n",
    "        NarrativeText.append(str(element))\n",
    "    elif \"unstructured.documents.elements.Text\" in str(type(element)):\n",
    "        Text.append(str(element))\n",
    "    elif \"unstructured.documents.elements.ListItem\" in str(type(element)):\n",
    "        ListItem.append(str(element))\n",
    "    elif \"unstructured.documents.elements.Image\" in str(type(element)):\n",
    "        Img.append(str(element))\n",
    "\n"
   ]
  },
  {
   "cell_type": "code",
   "execution_count": 47,
   "metadata": {},
   "outputs": [
    {
     "data": {
      "text/plain": [
       "['662WD562WD362WD262WD/062WD/752WD/552WDTW252WD/252WD/152WD W272WD272WD/962WD/022-862WDG862WD/862WD/762WD/022-662WD / / / / / /',\n",
       " 'FIG. 4 FIG. 5 . . N C . R . EASE 10 OFF . . . 0 .. VERSA CLUTCH™ FIG. 6 NUTSETTER']"
      ]
     },
     "execution_count": 47,
     "metadata": {},
     "output_type": "execute_result"
    }
   ],
   "source": [
    "Img"
   ]
  },
  {
   "cell_type": "code",
   "execution_count": 49,
   "metadata": {},
   "outputs": [],
   "source": [
    "from unstructured.partition.pdf import partition_pdf\n",
    "import os\n",
    "import unstructured\n",
    "from PIL import Image\n",
    "import io\n",
    "import base64\n",
    "# Ensure the output directory is correct and exists\n",
    "poppler_path = r'D:\\\\configurations\\\\poppler-0.68.0 (1)\\\\poppler-0.68.0\\\\bin'\n",
    "tesseract_path = r'D:\\\\configurations\\\\test\\\\tesseract.exe'\n",
    "os.environ['PATH'] = poppler_path + os.pathsep + os.environ['PATH']\n",
    "os.environ['PATH'] = f'{os.path.dirname(tesseract_path)};{os.environ[\"PATH\"]}'\n",
    "output_dir = \"D:\\\\extracted_data\"\n",
    "if not os.path.exists(output_dir):\n",
    "    os.makedirs(output_dir)\n",
    "\n",
    "# Extract images with detailed logging\n",
    "raw_pdf_elements = partition_pdf(\n",
    "    filename=\"C:\\\\Users\\\\ravichandrav\\\\Desktop\\\\DW251 etc._385930-03.pdf\",\n",
    "    strategy=\"hi_res\",\n",
    "    extract_images_in_pdf=True,\n",
    "    extract_image_block_types=[\"Image\", \"Table\"],\n",
    "    extract_image_block_to_payload=False,\n",
    "    extract_image_block_output_dir=\"extracted_data\"\n",
    ")\n",
    "# print(raw_pdf_elements)\n",
    "# Verify extraction output\n",
    "for i, element in enumerate(raw_pdf_elements):\n",
    "    # Check if the element is an Image and it has the image_base64 attribute\n",
    "    if isinstance(element, unstructured.documents.elements.Image) and hasattr(element.metadata, 'image_base64'):\n",
    "        # Get the base64 string of the image\n",
    "        image_base64 = element.metadata.image_base64\n",
    "        # Decode the base64 string into bytes\n",
    "        image_bytes = base64.b64decode(image_base64)\n",
    "        # Write the bytes to a file\n",
    "        with open(f'image_{{i}}.png', 'wb') as f:\n",
    "            f.write(image_bytes)\n",
    "# Iterate over the elements\n",
    "# Get the images at indices 38 and 158\n"
   ]
  },
  {
   "cell_type": "code",
   "execution_count": null,
   "metadata": {},
   "outputs": [],
   "source": [
    "for i, element in enumerate(raw_pdf_elements):\n",
    "    # Check if the element is an Image\n",
    "    if isinstance(element, unstructured.documents.elements.Image):\n",
    "        # Get the base64 string of the image\n",
    "        image_base64 = element.metadata.image_base64\n",
    "        # Decode the base64 string into bytes\n",
    "        image_bytes = base64.b64decode(image_base64)\n",
    "        # Write the bytes to a file\n",
    "        with open(f'image_{i}.png', 'wb') as f:\n",
    "            f.write(image_bytes)"
   ]
  },
  {
   "cell_type": "code",
   "execution_count": 54,
   "metadata": {},
   "outputs": [],
   "source": [
    "from unstructured.partition.pdf import partition_pdf\n",
    "import base64\n",
    "import os\n",
    "\n",
    "# Specify the path to your PDF file\n",
    "\n",
    "poppler_path = r'D:\\\\configurations\\\\poppler-0.68.0 (1)\\\\poppler-0.68.0\\\\bin'\n",
    "tesseract_path = r'D:\\\\configurations\\\\test\\\\tesseract.exe'\n",
    "os.environ['PATH'] = poppler_path + os.pathsep + os.environ['PATH']\n",
    "os.environ['PATH'] = f'{os.path.dirname(tesseract_path)};{os.environ[\"PATH\"]}'\n",
    "filename = r\"C:\\\\Users\\\\ravichandrav\\\\Desktop\\\\DW251 etc._385930-03.pdf\"\n",
    "path=r\"C:\\\\Users\\\\ravichandrav\\\\Desktop\\\\extracted_images\"\n",
    "# path=r\"C:\\\\Users\\\\ravichandrav\\\\Desktop\"\n",
    "# Call partition_pdf to extract elements from the PDF\n",
    "raw_pdf_elements = partition_pdf(\n",
    "    filename=filename,\n",
    "    strategy=\"hi_res\",\n",
    "    extract_images_in_pdf=True,\n",
    "    extract_image_block_types=[\"Image\", \"Table\"],\n",
    "    extract_image_block_to_payload=True,\n",
    "    extract_image_block_output_dir=\"extracted_images\",\n",
    ")\n",
    "\n",
    "# Iterate over the extracted elements\n",
    "# for i, element in enumerate(raw_pdf_elements):\n",
    "#     # Check if the element is an Image\n",
    "#     if isinstance(element, unstructured.documents.elements.Image):\n",
    "#         # Check if the image_base64 attribute is present\n",
    "#         print(f\"Found an Image element at index {i}\")\n",
    "#         if hasattr(element.metadata, 'image_base64'):\n",
    "#             # Get the base64 string of the image\n",
    "#             image_base64 = element.metadata.image_base64\n",
    "#             # Decode the base64 string into bytes\n",
    "#             image_bytes = base64.b64decode(image_base64)\n",
    "#             # Write the bytes to a file\n",
    "#             with open(os.path.join(path, f'image_{i}.png'), 'wb') as f:\n",
    "#                 f.write(image_bytes)"
   ]
  },
  {
   "cell_type": "code",
   "execution_count": 57,
   "metadata": {},
   "outputs": [],
   "source": [
    "poppler_path = r'D:\\\\configurations\\\\poppler-0.68.0 (1)\\\\poppler-0.68.0\\\\bin'\n",
    "tesseract_path = r'D:\\\\configurations\\\\test\\\\tesseract.exe'\n",
    "os.environ['PATH'] = poppler_path + os.pathsep + os.environ['PATH']\n",
    "os.environ['PATH'] = f'{os.path.dirname(tesseract_path)};{os.environ[\"PATH\"]}'\n",
    "filename = r\"C:\\\\Users\\\\ravichandrav\\\\Desktop\\\\DW251 etc._385930-03.pdf\"\n",
    "path=r\"C:\\\\Users\\\\ravichandrav\\\\Desktop\\\\extracted_images\"\n",
    "# path=r\"C:\\\\Users\\\\ravichandrav\\\\Desktop\"\n",
    "# Call partition_pdf to extract elements from the PDF\n",
    "if not os.path.exists(path):\n",
    "    os.makedirs(path)\n",
    "    print(\"Directory \", path,  \" Created \")\n",
    "\n",
    "raw_pdf_elements = partition_pdf(\n",
    "    filename=filename,\n",
    "    strategy=\"hi_res\",\n",
    "    extract_images_in_pdf=True,\n",
    "    extract_image_block_types=[\"Image\", \"Table\"],\n",
    "    extract_image_block_to_payload=True,\n",
    "    extract_image_block_output_dir=\"extracted_images\",\n",
    ")\n",
    "for i, element in enumerate(raw_pdf_elements):\n",
    "    # Check if the element is an Image\n",
    "    if isinstance(element, unstructured.documents.elements.Image):\n",
    "        # Check if the image_base64 attribute is present\n",
    "        print(f\"Found an Image element at index {i}\")\n",
    "        if hasattr(element.metadata, 'image_base64'):\n",
    "            # Get the base64 string of the image\n",
    "            image_base64 = element.metadata.image_base64\n",
    "            # Decode the base64 string into bytes\n",
    "            image_bytes = base64.b64decode(image_base64)\n",
    "            # Write the bytes to a file\n",
    "            with open(os.path.join(path, f'image_{i}.png'), 'wb') as f:\n",
    "                f.write(image_bytes)"
   ]
  },
  {
   "cell_type": "code",
   "execution_count": null,
   "metadata": {},
   "outputs": [],
   "source": [
    "partition_pdf(\n",
    "    filename=\"path/to/your/pdf_file.pdf\",                  # mandatory\n",
    "    strategy=\"hi_res\",                                     # mandatory to use ``hi_res`` strategy\n",
    "    extract_images_in_pdf=True,                            # mandatory to set as ``True``\n",
    "    extract_image_block_types=[\"Image\", \"Table\"],          # optional\n",
    "    extract_image_block_to_payload=False,                  # optional\n",
    "    extract_image_block_output_dir=\"path/to/save/images\",  # optional - only works when ``extract_image_block_to_payload=False``\n",
    "    )"
   ]
  },
  {
   "cell_type": "code",
   "execution_count": 44,
   "metadata": {},
   "outputs": [],
   "source": [
    "from unstructured.partition.pdf import partition_pdf\n",
    "\n",
    "# Ensure the output directory is correct and exists\n",
    "output_dir = \"C:\\\\Users\\\\ravichandrav\\\\Desktop\\\\data\\\\extracted_data\"\n",
    "if not os.path.exists(output_dir):\n",
    "    os.makedirs(output_dir)\n",
    "\n",
    "# Extract images with detailed logging\n",
    "raw_pdf_elements = partition_pdf(\n",
    "    filename=\"C:\\\\Users\\\\ravichandrav\\\\Desktop\\\\DW251 etc._385930-03.pdf\",\n",
    "    strategy=\"hi_res\",\n",
    "    extract_images_in_pdf=True,\n",
    "    extract_image_block_types=[\"Image\", \"Table\"],\n",
    "    extract_image_block_to_payload=False,\n",
    "    extract_image_block_output_dir=\"extracted_data\"\n",
    ")\n",
    "\n",
    "# Verify extraction output\n",
    "\n"
   ]
  },
  {
   "cell_type": "code",
   "execution_count": null,
   "metadata": {},
   "outputs": [],
   "source": [
    "import unstructured\n",
    "for i, element in enumerate(raw_pdf_elements):\n",
    "    # Check if the element is an Image\n",
    "    if isinstance(element, \"unstructured.documents.elements.Image\"):\n",
    "        print(f\"Found an Image element at index {i}\")"
   ]
  },
  {
   "cell_type": "code",
   "execution_count": 41,
   "metadata": {},
   "outputs": [],
   "source": [
    "elements = partition_pdf(filename=\"C:\\\\Users\\\\ravichandrav\\\\Desktop\\\\DW251 etc._385930-03.pdf\", strategy=\"hi_res\", model_name=\"yolox\", extract_image_block_types=[\"Image\"],    extract_image_block_output_dir=\"extracted_data\")"
   ]
  },
  {
   "cell_type": "code",
   "execution_count": 42,
   "metadata": {},
   "outputs": [],
   "source": [
    "Img2=[]\n",
    "if \"unstructured.documents.elements.Image\" in str(type(element)):\n",
    "        Img2.append(str(element))"
   ]
  },
  {
   "cell_type": "code",
   "execution_count": 43,
   "metadata": {},
   "outputs": [
    {
     "data": {
      "text/plain": [
       "[]"
      ]
     },
     "execution_count": 43,
     "metadata": {},
     "output_type": "execute_result"
    }
   ],
   "source": []
  },
  {
   "cell_type": "code",
   "execution_count": 37,
   "metadata": {},
   "outputs": [
    {
     "name": "stdout",
     "output_type": "stream",
     "text": [
      "Defaulting to user installation because normal site-packages is not writeable\n",
      "Requirement already satisfied: unstructured in c:\\users\\ravichandrav\\appdata\\roaming\\python\\python310\\site-packages (0.10.20)\n",
      "Requirement already satisfied: chardet in c:\\users\\ravichandrav\\appdata\\roaming\\python\\python310\\site-packages (from unstructured) (5.2.0)\n",
      "Requirement already satisfied: filetype in c:\\users\\ravichandrav\\appdata\\roaming\\python\\python310\\site-packages (from unstructured) (1.2.0)\n",
      "Requirement already satisfied: python-magic in c:\\users\\ravichandrav\\appdata\\roaming\\python\\python310\\site-packages (from unstructured) (0.4.27)\n",
      "Requirement already satisfied: lxml in c:\\users\\ravichandrav\\appdata\\roaming\\python\\python310\\site-packages (from unstructured) (4.9.3)\n",
      "Requirement already satisfied: nltk in c:\\users\\ravichandrav\\appdata\\roaming\\python\\python310\\site-packages (from unstructured) (3.8.1)\n",
      "Requirement already satisfied: tabulate in c:\\users\\ravichandrav\\appdata\\roaming\\python\\python310\\site-packages (from unstructured) (0.9.0)\n",
      "Requirement already satisfied: requests in c:\\users\\ravichandrav\\appdata\\roaming\\python\\python310\\site-packages (from unstructured) (2.31.0)\n",
      "Requirement already satisfied: beautifulsoup4 in c:\\users\\ravichandrav\\appdata\\roaming\\python\\python310\\site-packages (from unstructured) (4.12.2)\n",
      "Requirement already satisfied: emoji in c:\\users\\ravichandrav\\appdata\\roaming\\python\\python310\\site-packages (from unstructured) (2.8.0)\n",
      "Requirement already satisfied: dataclasses-json in c:\\users\\ravichandrav\\appdata\\roaming\\python\\python310\\site-packages (from unstructured) (0.6.7)\n",
      "Requirement already satisfied: python-iso639 in c:\\users\\ravichandrav\\appdata\\roaming\\python\\python310\\site-packages (from unstructured) (2023.6.15)\n",
      "Requirement already satisfied: langdetect in c:\\users\\ravichandrav\\appdata\\roaming\\python\\python310\\site-packages (from unstructured) (1.0.9)\n",
      "Requirement already satisfied: numpy in c:\\users\\ravichandrav\\appdata\\roaming\\python\\python310\\site-packages (from unstructured) (1.26.4)\n",
      "Requirement already satisfied: rapidfuzz in c:\\users\\ravichandrav\\appdata\\roaming\\python\\python310\\site-packages (from unstructured) (3.4.0)\n",
      "Requirement already satisfied: backoff in c:\\users\\ravichandrav\\appdata\\roaming\\python\\python310\\site-packages (from unstructured) (2.2.1)\n",
      "Requirement already satisfied: soupsieve>1.2 in c:\\users\\ravichandrav\\appdata\\roaming\\python\\python310\\site-packages (from beautifulsoup4->unstructured) (2.5)\n",
      "Requirement already satisfied: marshmallow<4.0.0,>=3.18.0 in c:\\users\\ravichandrav\\appdata\\roaming\\python\\python310\\site-packages (from dataclasses-json->unstructured) (3.20.1)\n",
      "Requirement already satisfied: typing-inspect<1,>=0.4.0 in c:\\users\\ravichandrav\\appdata\\roaming\\python\\python310\\site-packages (from dataclasses-json->unstructured) (0.9.0)\n",
      "Requirement already satisfied: six in c:\\users\\ravichandrav\\appdata\\roaming\\python\\python310\\site-packages (from langdetect->unstructured) (1.16.0)\n",
      "Requirement already satisfied: click in c:\\users\\ravichandrav\\appdata\\roaming\\python\\python310\\site-packages (from nltk->unstructured) (8.1.7)\n",
      "Requirement already satisfied: joblib in c:\\users\\ravichandrav\\appdata\\roaming\\python\\python310\\site-packages (from nltk->unstructured) (1.3.2)\n",
      "Requirement already satisfied: regex>=2021.8.3 in c:\\users\\ravichandrav\\appdata\\roaming\\python\\python310\\site-packages (from nltk->unstructured) (2023.10.3)\n",
      "Requirement already satisfied: tqdm in c:\\users\\ravichandrav\\appdata\\roaming\\python\\python310\\site-packages (from nltk->unstructured) (4.66.1)\n",
      "Requirement already satisfied: charset-normalizer<4,>=2 in c:\\users\\ravichandrav\\appdata\\roaming\\python\\python310\\site-packages (from requests->unstructured) (3.2.0)\n",
      "Requirement already satisfied: idna<4,>=2.5 in c:\\users\\ravichandrav\\appdata\\roaming\\python\\python310\\site-packages (from requests->unstructured) (3.4)\n",
      "Requirement already satisfied: urllib3<3,>=1.21.1 in c:\\users\\ravichandrav\\appdata\\roaming\\python\\python310\\site-packages (from requests->unstructured) (2.0.4)\n",
      "Requirement already satisfied: certifi>=2017.4.17 in c:\\users\\ravichandrav\\appdata\\roaming\\python\\python310\\site-packages (from requests->unstructured) (2023.7.22)\n",
      "Requirement already satisfied: packaging>=17.0 in c:\\users\\ravichandrav\\appdata\\roaming\\python\\python310\\site-packages (from marshmallow<4.0.0,>=3.18.0->dataclasses-json->unstructured) (23.2)\n",
      "Requirement already satisfied: mypy-extensions>=0.3.0 in c:\\users\\ravichandrav\\appdata\\roaming\\python\\python310\\site-packages (from typing-inspect<1,>=0.4.0->dataclasses-json->unstructured) (1.0.0)\n",
      "Requirement already satisfied: typing-extensions>=3.7.4 in c:\\users\\ravichandrav\\appdata\\roaming\\python\\python310\\site-packages (from typing-inspect<1,>=0.4.0->dataclasses-json->unstructured) (4.8.0)\n",
      "Requirement already satisfied: colorama in c:\\users\\ravichandrav\\appdata\\roaming\\python\\python310\\site-packages (from click->nltk->unstructured) (0.4.6)\n"
     ]
    },
    {
     "name": "stderr",
     "output_type": "stream",
     "text": [
      "\n",
      "[notice] A new release of pip is available: 24.1 -> 24.1.2\n",
      "[notice] To update, run: python.exe -m pip install --upgrade pip\n"
     ]
    }
   ],
   "source": [
    "! pip install unstructured"
   ]
  },
  {
   "cell_type": "code",
   "execution_count": 31,
   "metadata": {},
   "outputs": [
    {
     "data": {
      "text/plain": [
       "['662WD562WD362WD262WD/062WD/752WD/552WDTW252WD/252WD/152WD W272WD272WD/962WD/022-862WDG862WD/862WD/762WD/022-662WD / / / / / /',\n",
       " 'FIG. 4 FIG. 5 . . N C . R . EASE 10 OFF . . . 0 .. VERSA CLUTCH™ FIG. 6 NUTSETTER']"
      ]
     },
     "execution_count": 31,
     "metadata": {},
     "output_type": "execute_result"
    }
   ],
   "source": [
    "Img"
   ]
  },
  {
   "cell_type": "code",
   "execution_count": 12,
   "metadata": {},
   "outputs": [
    {
     "name": "stdout",
     "output_type": "stream",
     "text": [
      "Extracted and saved 0 images to C:\\Users\\ravichandrav\\Desktop\\data\\extracted_data\n"
     ]
    }
   ],
   "source": [
    "import fitz  # PyMuPDF\n",
    "import os\n",
    "\n",
    "# Define the PDF file path and output directory\n",
    "pdf_path = \"C:\\\\Users\\\\ravichandrav\\\\Desktop\\\\data\\\\DW251 etc._385930-03.pdf\"\n",
    "output_dir = \"C:\\\\Users\\\\ravichandrav\\\\Desktop\\\\data\\\\extracted_data\"\n",
    "\n",
    "# Ensure the output directory exists\n",
    "os.makedirs(output_dir, exist_ok=True)\n",
    "\n",
    "# Open the PDF document\n",
    "pdf_document = fitz.open(pdf_path)\n",
    "\n",
    "# Function to extract images\n",
    "def extract_images_from_pdf(pdf_document, output_dir):\n",
    "    image_count = 0\n",
    "    for page_num in range(len(pdf_document)):\n",
    "        page = pdf_document[page_num]\n",
    "        images = page.get_images(full=True)\n",
    "        for img_index, img in enumerate(images):\n",
    "            xref = img[0]\n",
    "            base_image = pdf_document.extract_image(xref)\n",
    "            image_bytes = base_image[\"image\"]\n",
    "            image_ext = base_image[\"ext\"]\n",
    "            image_filename = os.path.join(output_dir, f\"image_{page_num + 1}_{img_index + 1}.{image_ext}\")\n",
    "\n",
    "            # Save the image\n",
    "            with open(image_filename, \"wb\") as image_file:\n",
    "                image_file.write(image_bytes)\n",
    "\n",
    "            image_count += 1\n",
    "\n",
    "    return image_count\n",
    "\n",
    "# Extract images and print result\n",
    "image_count = extract_images_from_pdf(pdf_document, output_dir)\n",
    "print(f\"Extracted and saved {image_count} images to {output_dir}\")\n"
   ]
  },
  {
   "cell_type": "code",
   "execution_count": 17,
   "metadata": {},
   "outputs": [
    {
     "name": "stdout",
     "output_type": "stream",
     "text": [
      "Successfully opened PDF: C:\\Users\\ravichandrav\\Downloads\\DW251.pdf\n",
      "Number of pages: 5\n",
      "Page 1 has 0 image(s)\n",
      "Page 2 has 0 image(s)\n",
      "Page 3 has 0 image(s)\n",
      "Page 4 has 0 image(s)\n",
      "Page 5 has 0 image(s)\n",
      "Successfully opened PDF: C:\\Users\\ravichandrav\\Downloads\\DW251.pdf\n",
      "Number of pages: 5\n",
      "Extracted and saved 0 images to C:\\Users\\ravichandrav\\Desktop\\data\\extracted_data\n"
     ]
    }
   ],
   "source": [
    "import fitz  # PyMuPDF\n",
    "import os\n",
    "\n",
    "# Define the PDF file path\n",
    "pdf_path = \"C:\\\\Users\\\\ravichandrav\\\\Downloads\\\\DW251.pdf\"\n",
    "\n",
    "# Check if the file exists\n",
    "if not os.path.isfile(pdf_path):\n",
    "    print(f\"File not found: {pdf_path}\")\n",
    "else:\n",
    "    # Open the PDF document\n",
    "    try:\n",
    "        pdf_document = fitz.open(pdf_path)\n",
    "        print(f\"Successfully opened PDF: {pdf_path}\")\n",
    "        print(f\"Number of pages: {len(pdf_document)}\")\n",
    "\n",
    "        # Iterate through each page and list images\n",
    "        for page_num in range(len(pdf_document)):\n",
    "            page = pdf_document[page_num]\n",
    "            images = page.get_images(full=True)\n",
    "            print(f\"Page {page_num + 1} has {len(images)} image(s)\")\n",
    "            for img_index, img in enumerate(images):\n",
    "                print(f\" - Image {img_index + 1}: {img}\")\n",
    "\n",
    "    except Exception as e:\n",
    "        print(f\"Error opening PDF: {e}\")\n",
    "try:\n",
    "    pdf_document = fitz.open(pdf_path)\n",
    "    print(f\"Successfully opened PDF: {pdf_path}\")\n",
    "    print(f\"Number of pages: {len(pdf_document)}\")\n",
    "\n",
    "    # Function to extract images\n",
    "    def extract_images_from_pdf(pdf_document, output_dir):\n",
    "        image_count = 0\n",
    "        for page_num in range(len(pdf_document)):\n",
    "            page = pdf_document[page_num]\n",
    "            images = page.get_images(full=True)\n",
    "            for img_index, img in enumerate(images):\n",
    "                xref = img[0]\n",
    "                base_image = pdf_document.extract_image(xref)\n",
    "                image_bytes = base_image[\"image\"]\n",
    "                image_ext = base_image[\"ext\"]\n",
    "                image_filename = os.path.join(output_dir, f\"image_{page_num + 1}_{img_index + 1}.{image_ext}\")\n",
    "\n",
    "                # Save the image\n",
    "                with open(image_filename, \"wb\") as image_file:\n",
    "                    image_file.write(image_bytes)\n",
    "\n",
    "                image_count += 1\n",
    "\n",
    "        return image_count\n",
    "\n",
    "    # Extract images and print result\n",
    "    image_count = extract_images_from_pdf(pdf_document, output_dir)\n",
    "    print(f\"Extracted and saved {image_count} images to {output_dir}\")\n",
    "\n",
    "except Exception as e:\n",
    "    print(f\"Error opening or processing PDF: {e}\")"
   ]
  },
  {
   "cell_type": "code",
   "execution_count": 15,
   "metadata": {},
   "outputs": [
    {
     "name": "stdout",
     "output_type": "stream",
     "text": [
      "Successfully opened PDF: C:\\Users\\ravichandrav\\Desktop\\data\\DW251 etc._385930-03.pdf\n",
      "Number of pages: 5\n",
      "Page 1 has 0 image(s)\n",
      "Page 2 has 0 image(s)\n",
      "Page 3 has 0 image(s)\n",
      "Page 4 has 0 image(s)\n",
      "Page 5 has 0 image(s)\n",
      "Extracted and saved 0 images to C:\\Users\\ravichandrav\\Desktop\\data\\extracted_data\n"
     ]
    }
   ],
   "source": [
    "import fitz  # PyMuPDF\n",
    "import os\n",
    "\n",
    "# Define the PDF file path and output directory\n",
    "pdf_path = \"C:\\\\Users\\\\ravichandrav\\\\Desktop\\\\data\\\\DW251 etc._385930-03.pdf\"  # Path to the uploaded PDF file\n",
    "output_dir = \"C:\\\\Users\\\\ravichandrav\\\\Desktop\\\\data\\\\extracted_data\"  # Directory to save extracted images\n",
    "\n",
    "# Ensure the output directory exists\n",
    "os.makedirs(output_dir, exist_ok=True)\n",
    "\n",
    "# Open the PDF document\n",
    "try:\n",
    "    pdf_document = fitz.open(pdf_path)\n",
    "    print(f\"Successfully opened PDF: {pdf_path}\")\n",
    "    print(f\"Number of pages: {len(pdf_document)}\")\n",
    "\n",
    "    # Function to extract images\n",
    "    def extract_images_from_pdf(pdf_document, output_dir):\n",
    "        image_count = 0\n",
    "        for page_num in range(len(pdf_document)):\n",
    "            page = pdf_document[page_num]\n",
    "            images = page.get_images(full=True)\n",
    "            print(f\"Page {page_num + 1} has {len(images)} image(s)\")\n",
    "            for img_index, img in enumerate(images):\n",
    "                xref = img[0]\n",
    "                base_image = pdf_document.extract_image(xref)\n",
    "                if base_image:  # Ensure that the base image is not None\n",
    "                    image_bytes = base_image[\"image\"]\n",
    "                    image_ext = base_image[\"ext\"]\n",
    "                    image_filename = os.path.join(output_dir, f\"image_{page_num + 1}_{img_index + 1}.{image_ext}\")\n",
    "\n",
    "                    # Save the image\n",
    "                    with open(image_filename, \"wb\") as image_file:\n",
    "                        image_file.write(image_bytes)\n",
    "\n",
    "                    image_count += 1\n",
    "\n",
    "        return image_count\n",
    "\n",
    "    # Extract images and print result\n",
    "    image_count = extract_images_from_pdf(pdf_document, output_dir)\n",
    "    print(f\"Extracted and saved {image_count} images to {output_dir}\")\n",
    "\n",
    "except Exception as e:\n",
    "    print(f\"Error opening or processing PDF: {e}\")\n"
   ]
  },
  {
   "cell_type": "code",
   "execution_count": null,
   "metadata": {},
   "outputs": [],
   "source": [
    "from unstructured.partition.pdf import partition_pdf\n",
    "import os\n",
    "import unstructured\n",
    "\n",
    "# Ensure the output directory is correct and exists\n",
    "output_dir = \"D:\\\\extracted_data\"\n",
    "if not os.path.exists(output_dir):\n",
    "    os.makedirs(output_dir)\n",
    "\n",
    "# Extract images with detailed logging\n",
    "raw_pdf_elements = partition_pdf(\n",
    "    filename=\"C:\\\\Users\\\\ravichandrav\\\\Desktop\\\\DW251 etc._385930-03.pdf\",\n",
    "    strategy=\"hi_res\",\n",
    "    extract_images_in_pdf=True,\n",
    "    extract_image_block_types=[\"Image\", \"Table\"],\n",
    "    extract_image_block_to_payload=False,\n",
    "    extract_image_block_output_dir=output_dir\n",
    ")\n",
    "\n",
    "# Verify extraction output and save images\n",
    "for i, element in enumerate(raw_pdf_elements):\n",
    "    # Check if the element is an Image\n",
    "    if isinstance(element, unstructured.documents.elements.Image):\n",
    "        image_data = element.get_image_data()\n",
    "        image_filename = os.path.join(output_dir, f\"image_{i}.png\")\n",
    "        \n",
    "        with open(image_filename, \"wb\") as image_file:\n",
    "            image_file.write(image_data)\n",
    "        \n",
    "        print(f\"Saved image {i}: {image_filename}\")\n"
   ]
  }
 ],
 "metadata": {
  "kernelspec": {
   "display_name": "Python 3",
   "language": "python",
   "name": "python3"
  },
  "language_info": {
   "codemirror_mode": {
    "name": "ipython",
    "version": 3
   },
   "file_extension": ".py",
   "mimetype": "text/x-python",
   "name": "python",
   "nbconvert_exporter": "python",
   "pygments_lexer": "ipython3",
   "version": "3.10.7"
  }
 },
 "nbformat": 4,
 "nbformat_minor": 2
}
